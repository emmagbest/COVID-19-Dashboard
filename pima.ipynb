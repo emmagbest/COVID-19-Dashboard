{
  "nbformat": 4,
  "nbformat_minor": 0,
  "metadata": {
    "colab": {
      "provenance": [],
      "authorship_tag": "ABX9TyNqFFk+8r1s8IMCAS8QZdoY",
      "include_colab_link": true
    },
    "kernelspec": {
      "name": "python3",
      "display_name": "Python 3"
    },
    "language_info": {
      "name": "python"
    }
  },
  "cells": [
    {
      "cell_type": "markdown",
      "metadata": {
        "id": "view-in-github",
        "colab_type": "text"
      },
      "source": [
        "<a href=\"https://colab.research.google.com/github/emmagbest/COVID-19-Dashboard/blob/master/pima.ipynb\" target=\"_parent\"><img src=\"https://colab.research.google.com/assets/colab-badge.svg\" alt=\"Open In Colab\"/></a>"
      ]
    },
    {
      "cell_type": "code",
      "execution_count": null,
      "metadata": {
        "id": "fLpNRCnRqEWI",
        "collapsed": true
      },
      "outputs": [],
      "source": [
        "import pandas as pd\n",
        "df = pd.read_csv('/content/Pima .csv')"
      ]
    },
    {
      "cell_type": "code",
      "source": [
        "df.columns"
      ],
      "metadata": {
        "colab": {
          "base_uri": "https://localhost:8080/"
        },
        "id": "WW-yXgufybhZ",
        "outputId": "d6a82d1a-deba-4d52-e763-d1a39839f2f4"
      },
      "execution_count": 7,
      "outputs": [
        {
          "output_type": "execute_result",
          "data": {
            "text/plain": [
              "Index(['preg_count', 'glucose_concentration', 'diastolic_bp',\n",
              "       'triceps_skin_fold_thickness', 'two_hr_serum_insulin', 'bmi',\n",
              "       'diabetes_pedi', 'age', 'diabetes_class'],\n",
              "      dtype='object')"
            ]
          },
          "metadata": {},
          "execution_count": 7
        }
      ]
    },
    {
      "cell_type": "code",
      "source": [
        "x = df[['preg_count', 'glucose_concentration', 'diastolic_bp',\n",
        "       'triceps_skin_fold_thickness', 'two_hr_serum_insulin', 'bmi',\n",
        "       'diabetes_pedi', 'age',]]\n",
        "y = df['diabetes_class']"
      ],
      "metadata": {
        "id": "d09anCT9rOIf"
      },
      "execution_count": 4,
      "outputs": []
    },
    {
      "cell_type": "code",
      "source": [
        "df.info()\n",
        "df.head(20)\n",
        "df.isnull().sum()"
      ],
      "metadata": {
        "collapsed": true,
        "id": "B0gDFg30ryvu"
      },
      "execution_count": null,
      "outputs": []
    },
    {
      "cell_type": "code",
      "source": [
        "from sklearn.model_selection import train_test_split\n",
        "x_train, x_test, y_train, y_test = train_test_split(x,y,test_size=0.80, random_state=42)"
      ],
      "metadata": {
        "id": "dpAWTDX6zPpI"
      },
      "execution_count": 14,
      "outputs": []
    },
    {
      "cell_type": "code",
      "source": [
        "from sklearn.linear_model import LogisticRegression\n",
        "from sklearn.tree import DecisionTreeClassifier\n",
        "from sklearn.ensemble import RandomForestClassifier\n",
        "from sklearn.neighbors import KNeighborsClassifier"
      ],
      "metadata": {
        "id": "M0rN7fAT1Tq5"
      },
      "execution_count": 15,
      "outputs": []
    },
    {
      "cell_type": "code",
      "source": [
        "from sklearn.metrics import classification_report"
      ],
      "metadata": {
        "id": "nKjC3dCG2QmY"
      },
      "execution_count": 16,
      "outputs": []
    },
    {
      "cell_type": "code",
      "source": [
        "algorithms = {\n",
        "    'LogisticRegression' : LogisticRegression(),\n",
        "    'DecisionTreeClassifier' : DecisionTreeClassifier(),\n",
        "    'RandomForestClassifier' : RandomForestClassifier(),\n",
        "    'KNeighborsClassifier' : KNeighborsClassifier()\n",
        "}"
      ],
      "metadata": {
        "id": "NLI9W4DT2fup"
      },
      "execution_count": 17,
      "outputs": []
    },
    {
      "cell_type": "code",
      "source": [
        "for i in algorithms:\n",
        "  algorithms[i].fit(x_train,y_train)\n",
        "  y_pred = algorithms[i].predict(x_test)\n",
        "  print(i)\n",
        "  print(classification_report(y_test,y_pred))"
      ],
      "metadata": {
        "colab": {
          "base_uri": "https://localhost:8080/"
        },
        "id": "Km-KWjDp2o39",
        "outputId": "405bb19c-1007-46fd-dbac-4c857c1038fc"
      },
      "execution_count": 18,
      "outputs": [
        {
          "output_type": "stream",
          "name": "stderr",
          "text": [
            "/usr/local/lib/python3.10/dist-packages/sklearn/linear_model/_logistic.py:465: ConvergenceWarning: lbfgs failed to converge (status=1):\n",
            "STOP: TOTAL NO. of ITERATIONS REACHED LIMIT.\n",
            "\n",
            "Increase the number of iterations (max_iter) or scale the data as shown in:\n",
            "    https://scikit-learn.org/stable/modules/preprocessing.html\n",
            "Please also refer to the documentation for alternative solver options:\n",
            "    https://scikit-learn.org/stable/modules/linear_model.html#logistic-regression\n",
            "  n_iter_i = _check_optimize_result(\n"
          ]
        },
        {
          "output_type": "stream",
          "name": "stdout",
          "text": [
            "LogisticRegression\n",
            "              precision    recall  f1-score   support\n",
            "\n",
            "           0       0.81      0.82      0.81       405\n",
            "           1       0.64      0.63      0.63       210\n",
            "\n",
            "    accuracy                           0.75       615\n",
            "   macro avg       0.73      0.72      0.72       615\n",
            "weighted avg       0.75      0.75      0.75       615\n",
            "\n",
            "DecisionTreeClassifier\n",
            "              precision    recall  f1-score   support\n",
            "\n",
            "           0       0.79      0.67      0.73       405\n",
            "           1       0.51      0.65      0.57       210\n",
            "\n",
            "    accuracy                           0.67       615\n",
            "   macro avg       0.65      0.66      0.65       615\n",
            "weighted avg       0.69      0.67      0.67       615\n",
            "\n",
            "RandomForestClassifier\n",
            "              precision    recall  f1-score   support\n",
            "\n",
            "           0       0.80      0.82      0.81       405\n",
            "           1       0.64      0.60      0.62       210\n",
            "\n",
            "    accuracy                           0.75       615\n",
            "   macro avg       0.72      0.71      0.72       615\n",
            "weighted avg       0.75      0.75      0.75       615\n",
            "\n",
            "KNeighborsClassifier\n",
            "              precision    recall  f1-score   support\n",
            "\n",
            "           0       0.77      0.74      0.76       405\n",
            "           1       0.53      0.57      0.55       210\n",
            "\n",
            "    accuracy                           0.68       615\n",
            "   macro avg       0.65      0.65      0.65       615\n",
            "weighted avg       0.69      0.68      0.69       615\n",
            "\n"
          ]
        }
      ]
    },
    {
      "cell_type": "code",
      "source": [],
      "metadata": {
        "id": "F_eHgWXw2ubl"
      },
      "execution_count": null,
      "outputs": []
    }
  ]
}